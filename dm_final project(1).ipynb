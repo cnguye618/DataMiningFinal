{
 "cells": [
  {
   "cell_type": "code",
   "execution_count": 41,
   "id": "a6187105-7430-4673-b962-04f708cb0c46",
   "metadata": {},
   "outputs": [],
   "source": [
    "import pandas as pd\n",
    "import numpy as np \n",
    "import matplotlib.pyplot as plt\n",
    "import seaborn as sns\n",
    "from sklearn import linear_model\n",
    "from sklearn.model_selection import train_test_split\n",
    "from sklearn.preprocessing import StandardScaler, PolynomialFeatures\n",
    "from sklearn.metrics import mean_squared_error, r2_score\n",
    "from sklearn.linear_model import LinearRegression, Ridge, Lasso\n",
    "import statsmodels.api as sm\n",
    "import os\n",
    "import warnings\n",
    "from typing import List, Dict\n",
    "import matplotlib.pyplot as plt\n",
    "import seaborn as sns"
   ]
  },
  {
   "cell_type": "code",
   "execution_count": 2,
   "id": "ad89dd34-51f3-46bc-8084-dc940c2e87de",
   "metadata": {},
   "outputs": [],
   "source": [
    "high_df = pd.read_csv(\"high_popularity_spotify_data.csv\")\n",
    "low_df = pd.read_csv(\"low_popularity_spotify_data.csv\")\n"
   ]
  },
  {
   "cell_type": "code",
   "execution_count": 3,
   "id": "e0a9725d-19fc-41f4-a483-00517bd78141",
   "metadata": {},
   "outputs": [
    {
     "data": {
      "text/html": [
       "<div>\n",
       "<style scoped>\n",
       "    .dataframe tbody tr th:only-of-type {\n",
       "        vertical-align: middle;\n",
       "    }\n",
       "\n",
       "    .dataframe tbody tr th {\n",
       "        vertical-align: top;\n",
       "    }\n",
       "\n",
       "    .dataframe thead th {\n",
       "        text-align: right;\n",
       "    }\n",
       "</style>\n",
       "<table border=\"1\" class=\"dataframe\">\n",
       "  <thead>\n",
       "    <tr style=\"text-align: right;\">\n",
       "      <th></th>\n",
       "      <th>energy</th>\n",
       "      <th>tempo</th>\n",
       "      <th>danceability</th>\n",
       "      <th>playlist_genre</th>\n",
       "      <th>loudness</th>\n",
       "      <th>liveness</th>\n",
       "      <th>valence</th>\n",
       "      <th>track_artist</th>\n",
       "      <th>time_signature</th>\n",
       "      <th>speechiness</th>\n",
       "      <th>...</th>\n",
       "      <th>instrumentalness</th>\n",
       "      <th>track_album_id</th>\n",
       "      <th>mode</th>\n",
       "      <th>key</th>\n",
       "      <th>duration_ms</th>\n",
       "      <th>acousticness</th>\n",
       "      <th>id</th>\n",
       "      <th>playlist_subgenre</th>\n",
       "      <th>type</th>\n",
       "      <th>playlist_id</th>\n",
       "    </tr>\n",
       "  </thead>\n",
       "  <tbody>\n",
       "    <tr>\n",
       "      <th>0</th>\n",
       "      <td>0.592</td>\n",
       "      <td>157.969</td>\n",
       "      <td>0.521</td>\n",
       "      <td>pop</td>\n",
       "      <td>-7.777</td>\n",
       "      <td>0.122</td>\n",
       "      <td>0.535</td>\n",
       "      <td>Lady Gaga, Bruno Mars</td>\n",
       "      <td>3</td>\n",
       "      <td>0.0304</td>\n",
       "      <td>...</td>\n",
       "      <td>0.0000</td>\n",
       "      <td>10FLjwfpbxLmW8c25Xyc2N</td>\n",
       "      <td>0</td>\n",
       "      <td>6</td>\n",
       "      <td>251668</td>\n",
       "      <td>0.3080</td>\n",
       "      <td>2plbrEY59IikOBgBGLjaoe</td>\n",
       "      <td>mainstream</td>\n",
       "      <td>audio_features</td>\n",
       "      <td>37i9dQZF1DXcBWIGoYBM5M</td>\n",
       "    </tr>\n",
       "    <tr>\n",
       "      <th>1</th>\n",
       "      <td>0.507</td>\n",
       "      <td>104.978</td>\n",
       "      <td>0.747</td>\n",
       "      <td>pop</td>\n",
       "      <td>-10.171</td>\n",
       "      <td>0.117</td>\n",
       "      <td>0.438</td>\n",
       "      <td>Billie Eilish</td>\n",
       "      <td>4</td>\n",
       "      <td>0.0358</td>\n",
       "      <td>...</td>\n",
       "      <td>0.0608</td>\n",
       "      <td>7aJuG4TFXa2hmE4z1yxc3n</td>\n",
       "      <td>1</td>\n",
       "      <td>2</td>\n",
       "      <td>210373</td>\n",
       "      <td>0.2000</td>\n",
       "      <td>6dOtVTDdiauQNBQEDOtlAB</td>\n",
       "      <td>mainstream</td>\n",
       "      <td>audio_features</td>\n",
       "      <td>37i9dQZF1DXcBWIGoYBM5M</td>\n",
       "    </tr>\n",
       "    <tr>\n",
       "      <th>2</th>\n",
       "      <td>0.808</td>\n",
       "      <td>108.548</td>\n",
       "      <td>0.554</td>\n",
       "      <td>pop</td>\n",
       "      <td>-4.169</td>\n",
       "      <td>0.159</td>\n",
       "      <td>0.372</td>\n",
       "      <td>Gracie Abrams</td>\n",
       "      <td>4</td>\n",
       "      <td>0.0368</td>\n",
       "      <td>...</td>\n",
       "      <td>0.0000</td>\n",
       "      <td>0hBRqPYPXhr1RkTDG3n4Mk</td>\n",
       "      <td>1</td>\n",
       "      <td>1</td>\n",
       "      <td>166300</td>\n",
       "      <td>0.2140</td>\n",
       "      <td>7ne4VBA60CxGM75vw0EYad</td>\n",
       "      <td>mainstream</td>\n",
       "      <td>audio_features</td>\n",
       "      <td>37i9dQZF1DXcBWIGoYBM5M</td>\n",
       "    </tr>\n",
       "    <tr>\n",
       "      <th>3</th>\n",
       "      <td>0.910</td>\n",
       "      <td>112.966</td>\n",
       "      <td>0.670</td>\n",
       "      <td>pop</td>\n",
       "      <td>-4.070</td>\n",
       "      <td>0.304</td>\n",
       "      <td>0.786</td>\n",
       "      <td>Sabrina Carpenter</td>\n",
       "      <td>4</td>\n",
       "      <td>0.0634</td>\n",
       "      <td>...</td>\n",
       "      <td>0.0000</td>\n",
       "      <td>4B4Elma4nNDUyl6D5PvQkj</td>\n",
       "      <td>0</td>\n",
       "      <td>0</td>\n",
       "      <td>157280</td>\n",
       "      <td>0.0939</td>\n",
       "      <td>1d7Ptw3qYcfpdLNL5REhtJ</td>\n",
       "      <td>mainstream</td>\n",
       "      <td>audio_features</td>\n",
       "      <td>37i9dQZF1DXcBWIGoYBM5M</td>\n",
       "    </tr>\n",
       "    <tr>\n",
       "      <th>4</th>\n",
       "      <td>0.783</td>\n",
       "      <td>149.027</td>\n",
       "      <td>0.777</td>\n",
       "      <td>pop</td>\n",
       "      <td>-4.477</td>\n",
       "      <td>0.355</td>\n",
       "      <td>0.939</td>\n",
       "      <td>ROSÉ, Bruno Mars</td>\n",
       "      <td>4</td>\n",
       "      <td>0.2600</td>\n",
       "      <td>...</td>\n",
       "      <td>0.0000</td>\n",
       "      <td>2IYQwwgxgOIn7t3iF6ufFD</td>\n",
       "      <td>0</td>\n",
       "      <td>0</td>\n",
       "      <td>169917</td>\n",
       "      <td>0.0283</td>\n",
       "      <td>5vNRhkKd0yEAg8suGBpjeY</td>\n",
       "      <td>mainstream</td>\n",
       "      <td>audio_features</td>\n",
       "      <td>37i9dQZF1DXcBWIGoYBM5M</td>\n",
       "    </tr>\n",
       "  </tbody>\n",
       "</table>\n",
       "<p>5 rows × 29 columns</p>\n",
       "</div>"
      ],
      "text/plain": [
       "   energy    tempo  danceability playlist_genre  loudness  liveness  valence  \\\n",
       "0   0.592  157.969         0.521            pop    -7.777     0.122    0.535   \n",
       "1   0.507  104.978         0.747            pop   -10.171     0.117    0.438   \n",
       "2   0.808  108.548         0.554            pop    -4.169     0.159    0.372   \n",
       "3   0.910  112.966         0.670            pop    -4.070     0.304    0.786   \n",
       "4   0.783  149.027         0.777            pop    -4.477     0.355    0.939   \n",
       "\n",
       "            track_artist  time_signature  speechiness  ...  instrumentalness  \\\n",
       "0  Lady Gaga, Bruno Mars               3       0.0304  ...            0.0000   \n",
       "1          Billie Eilish               4       0.0358  ...            0.0608   \n",
       "2          Gracie Abrams               4       0.0368  ...            0.0000   \n",
       "3      Sabrina Carpenter               4       0.0634  ...            0.0000   \n",
       "4       ROSÉ, Bruno Mars               4       0.2600  ...            0.0000   \n",
       "\n",
       "           track_album_id mode key duration_ms acousticness  \\\n",
       "0  10FLjwfpbxLmW8c25Xyc2N    0   6      251668       0.3080   \n",
       "1  7aJuG4TFXa2hmE4z1yxc3n    1   2      210373       0.2000   \n",
       "2  0hBRqPYPXhr1RkTDG3n4Mk    1   1      166300       0.2140   \n",
       "3  4B4Elma4nNDUyl6D5PvQkj    0   0      157280       0.0939   \n",
       "4  2IYQwwgxgOIn7t3iF6ufFD    0   0      169917       0.0283   \n",
       "\n",
       "                       id playlist_subgenre            type  \\\n",
       "0  2plbrEY59IikOBgBGLjaoe        mainstream  audio_features   \n",
       "1  6dOtVTDdiauQNBQEDOtlAB        mainstream  audio_features   \n",
       "2  7ne4VBA60CxGM75vw0EYad        mainstream  audio_features   \n",
       "3  1d7Ptw3qYcfpdLNL5REhtJ        mainstream  audio_features   \n",
       "4  5vNRhkKd0yEAg8suGBpjeY        mainstream  audio_features   \n",
       "\n",
       "              playlist_id  \n",
       "0  37i9dQZF1DXcBWIGoYBM5M  \n",
       "1  37i9dQZF1DXcBWIGoYBM5M  \n",
       "2  37i9dQZF1DXcBWIGoYBM5M  \n",
       "3  37i9dQZF1DXcBWIGoYBM5M  \n",
       "4  37i9dQZF1DXcBWIGoYBM5M  \n",
       "\n",
       "[5 rows x 29 columns]"
      ]
     },
     "execution_count": 3,
     "metadata": {},
     "output_type": "execute_result"
    }
   ],
   "source": [
    "high_df.head()"
   ]
  },
  {
   "cell_type": "code",
   "execution_count": 4,
   "id": "1da52944-8fe9-4286-9ff8-1951f7b3a19b",
   "metadata": {},
   "outputs": [
    {
     "name": "stdout",
     "output_type": "stream",
     "text": [
      "1686\n",
      "3145\n"
     ]
    }
   ],
   "source": [
    "print(len(high_df))\n",
    "print(len(low_df))"
   ]
  },
  {
   "cell_type": "raw",
   "id": "dab7c0c5-9865-4b21-a465-21a0769e2163",
   "metadata": {},
   "source": [
    "high_df.columns"
   ]
  },
  {
   "cell_type": "code",
   "execution_count": 5,
   "id": "6063756f-c4de-4b0e-9dd0-cefd1ef8b51d",
   "metadata": {},
   "outputs": [
    {
     "name": "stdout",
     "output_type": "stream",
     "text": [
      "0       100\n",
      "1        97\n",
      "2        93\n",
      "3        81\n",
      "4        98\n",
      "       ... \n",
      "1681     76\n",
      "1682     74\n",
      "1683     69\n",
      "1684     82\n",
      "1685     69\n",
      "Name: track_popularity, Length: 1686, dtype: int64\n"
     ]
    }
   ],
   "source": [
    "print(high_df['track_popularity'])"
   ]
  },
  {
   "cell_type": "code",
   "execution_count": 6,
   "id": "ce4a5adf-fbab-43d4-a0fe-17fdd27305f5",
   "metadata": {},
   "outputs": [
    {
     "name": "stdout",
     "output_type": "stream",
     "text": [
      "      energy    tempo  danceability playlist_genre  loudness  liveness  \\\n",
      "0      0.592  157.969         0.521            pop    -7.777    0.1220   \n",
      "1      0.507  104.978         0.747            pop   -10.171    0.1170   \n",
      "2      0.808  108.548         0.554            pop    -4.169    0.1590   \n",
      "3      0.910  112.966         0.670            pop    -4.070    0.3040   \n",
      "4      0.783  149.027         0.777            pop    -4.477    0.3550   \n",
      "...      ...      ...           ...            ...       ...       ...   \n",
      "3140   0.424   75.466         0.352         indian    -8.009    0.2420   \n",
      "3141   0.349  147.193         0.471         indian   -16.633    0.2860   \n",
      "3142   0.595  174.308         0.436         indian   -11.494    0.0939   \n",
      "3143   0.591  174.760         0.489         indian   -10.843    0.0770   \n",
      "3144   0.816  170.938         0.270         indian    -3.815    0.3170   \n",
      "\n",
      "      valence                                       track_artist  \\\n",
      "0       0.535                              Lady Gaga, Bruno Mars   \n",
      "1       0.438                                      Billie Eilish   \n",
      "2       0.372                                      Gracie Abrams   \n",
      "3       0.786                                  Sabrina Carpenter   \n",
      "4       0.939                                   ROSÉ, Bruno Mars   \n",
      "...       ...                                                ...   \n",
      "3140    0.605                                 M. S. Subbulakshmi   \n",
      "3141    0.358                                  Jayanthi Kumaresh   \n",
      "3142    0.870  Nirmala Rajasekar, Raghavendra Rao, Tanjore K....   \n",
      "3143    0.689                                  Ganesh & Kumaresh   \n",
      "3144    0.591                                   Sudha Ragunathan   \n",
      "\n",
      "      time_signature  speechiness  ...  instrumentalness  \\\n",
      "0                3.0       0.0304  ...            0.0000   \n",
      "1                4.0       0.0358  ...            0.0608   \n",
      "2                4.0       0.0368  ...            0.0000   \n",
      "3                4.0       0.0634  ...            0.0000   \n",
      "4                4.0       0.2600  ...            0.0000   \n",
      "...              ...          ...  ...               ...   \n",
      "3140             1.0       0.0634  ...            0.0000   \n",
      "3141             4.0       0.0656  ...            0.9450   \n",
      "3142             4.0       0.0671  ...            0.8680   \n",
      "3143             1.0       0.0813  ...            0.9270   \n",
      "3144             4.0       0.0598  ...            0.1130   \n",
      "\n",
      "              track_album_id mode   key duration_ms acousticness  \\\n",
      "0     10FLjwfpbxLmW8c25Xyc2N  0.0   6.0    251668.0       0.3080   \n",
      "1     7aJuG4TFXa2hmE4z1yxc3n  1.0   2.0    210373.0       0.2000   \n",
      "2     0hBRqPYPXhr1RkTDG3n4Mk  1.0   1.0    166300.0       0.2140   \n",
      "3     4B4Elma4nNDUyl6D5PvQkj  0.0   0.0    157280.0       0.0939   \n",
      "4     2IYQwwgxgOIn7t3iF6ufFD  0.0   0.0    169917.0       0.0283   \n",
      "...                      ...  ...   ...         ...          ...   \n",
      "3140  5utDQUWCZCEXWHMmna8C63  1.0  10.0    661293.0       0.9650   \n",
      "3141  4kUGwkHXKBbaLwnqTIrg0J  1.0   8.0    394400.0       0.9750   \n",
      "3142  6FMROVG9PB4nJYmvNLTdge  1.0   3.0    473440.0       0.8160   \n",
      "3143  3si4Lr5oBcahJ3D7IPbO4N  0.0   8.0    298987.0       0.9480   \n",
      "3144  2tezom8oCCpSeiriOFeZNi  1.0   8.0    645701.0       0.8530   \n",
      "\n",
      "                          id playlist_subgenre            type  \\\n",
      "0     2plbrEY59IikOBgBGLjaoe        mainstream  audio_features   \n",
      "1     6dOtVTDdiauQNBQEDOtlAB        mainstream  audio_features   \n",
      "2     7ne4VBA60CxGM75vw0EYad        mainstream  audio_features   \n",
      "3     1d7Ptw3qYcfpdLNL5REhtJ        mainstream  audio_features   \n",
      "4     5vNRhkKd0yEAg8suGBpjeY        mainstream  audio_features   \n",
      "...                      ...               ...             ...   \n",
      "3140  1IkR0OgVI1gydC4S6jnG2B         classical  audio_features   \n",
      "3141  4ZFM5yFsjEzvZ1XmP27L5r         classical  audio_features   \n",
      "3142  5wZQXUcphAyBZfVdWmAiYX         classical  audio_features   \n",
      "3143  5Ca5l5vDzIOZdVwwWCxAds         classical  audio_features   \n",
      "3144  0HmenrANrrNVi8244GsYB5         classical  audio_features   \n",
      "\n",
      "                 playlist_id  \n",
      "0     37i9dQZF1DXcBWIGoYBM5M  \n",
      "1     37i9dQZF1DXcBWIGoYBM5M  \n",
      "2     37i9dQZF1DXcBWIGoYBM5M  \n",
      "3     37i9dQZF1DXcBWIGoYBM5M  \n",
      "4     37i9dQZF1DXcBWIGoYBM5M  \n",
      "...                      ...  \n",
      "3140  3sIB6VOssssCO17VUPu80m  \n",
      "3141  3sIB6VOssssCO17VUPu80m  \n",
      "3142  3sIB6VOssssCO17VUPu80m  \n",
      "3143  3sIB6VOssssCO17VUPu80m  \n",
      "3144  3sIB6VOssssCO17VUPu80m  \n",
      "\n",
      "[4831 rows x 29 columns]\n"
     ]
    }
   ],
   "source": [
    "spot_df = pd.concat([high_df, low_df])\n",
    "print(spot_df)"
   ]
  },
  {
   "cell_type": "code",
   "execution_count": 7,
   "id": "6e887867-9c2d-41a4-95e7-fc780d977222",
   "metadata": {},
   "outputs": [
    {
     "name": "stdout",
     "output_type": "stream",
     "text": [
      "energy                      float64\n",
      "tempo                       float64\n",
      "danceability                float64\n",
      "playlist_genre               object\n",
      "loudness                    float64\n",
      "liveness                    float64\n",
      "valence                     float64\n",
      "track_artist                 object\n",
      "time_signature              float64\n",
      "speechiness                 float64\n",
      "track_popularity              int64\n",
      "track_href                   object\n",
      "uri                          object\n",
      "track_album_name             object\n",
      "playlist_name                object\n",
      "analysis_url                 object\n",
      "track_id                     object\n",
      "track_name                   object\n",
      "track_album_release_date     object\n",
      "instrumentalness            float64\n",
      "track_album_id               object\n",
      "mode                        float64\n",
      "key                         float64\n",
      "duration_ms                 float64\n",
      "acousticness                float64\n",
      "id                           object\n",
      "playlist_subgenre            object\n",
      "type                         object\n",
      "playlist_id                  object\n",
      "dtype: object\n"
     ]
    }
   ],
   "source": [
    "print(spot_df.dtypes)"
   ]
  },
  {
   "cell_type": "code",
   "execution_count": 8,
   "id": "6d96569e-01ff-4feb-941e-50015f164634",
   "metadata": {},
   "outputs": [
    {
     "name": "stdout",
     "output_type": "stream",
     "text": [
      "0       0.0\n",
      "1       1.0\n",
      "2       1.0\n",
      "3       0.0\n",
      "4       0.0\n",
      "       ... \n",
      "3140    1.0\n",
      "3141    1.0\n",
      "3142    1.0\n",
      "3143    0.0\n",
      "3144    1.0\n",
      "Name: mode, Length: 4831, dtype: float64\n",
      "0       spotify:track:2plbrEY59IikOBgBGLjaoe\n",
      "1       spotify:track:6dOtVTDdiauQNBQEDOtlAB\n",
      "2       spotify:track:7ne4VBA60CxGM75vw0EYad\n",
      "3       spotify:track:1d7Ptw3qYcfpdLNL5REhtJ\n",
      "4       spotify:track:5vNRhkKd0yEAg8suGBpjeY\n",
      "                        ...                 \n",
      "3140    spotify:track:1IkR0OgVI1gydC4S6jnG2B\n",
      "3141    spotify:track:4ZFM5yFsjEzvZ1XmP27L5r\n",
      "3142    spotify:track:5wZQXUcphAyBZfVdWmAiYX\n",
      "3143    spotify:track:5Ca5l5vDzIOZdVwwWCxAds\n",
      "3144    spotify:track:0HmenrANrrNVi8244GsYB5\n",
      "Name: uri, Length: 4831, dtype: object\n"
     ]
    }
   ],
   "source": [
    "print(spot_df['mode'])\n",
    "print(spot_df['uri'])"
   ]
  },
  {
   "cell_type": "code",
   "execution_count": 9,
   "id": "b5b2d8fc-3117-4800-a62c-09698acebeda",
   "metadata": {},
   "outputs": [
    {
     "name": "stdout",
     "output_type": "stream",
     "text": [
      "energy                      1\n",
      "tempo                       1\n",
      "danceability                1\n",
      "playlist_genre              0\n",
      "loudness                    1\n",
      "liveness                    1\n",
      "valence                     1\n",
      "track_artist                0\n",
      "time_signature              1\n",
      "speechiness                 1\n",
      "track_popularity            0\n",
      "track_href                  1\n",
      "uri                         1\n",
      "track_album_name            1\n",
      "playlist_name               0\n",
      "analysis_url                1\n",
      "track_id                    0\n",
      "track_name                  0\n",
      "track_album_release_date    0\n",
      "instrumentalness            1\n",
      "track_album_id              0\n",
      "mode                        1\n",
      "key                         1\n",
      "duration_ms                 1\n",
      "acousticness                1\n",
      "id                          1\n",
      "playlist_subgenre           0\n",
      "type                        1\n",
      "playlist_id                 0\n",
      "dtype: int64\n"
     ]
    }
   ],
   "source": [
    "#missing values\n",
    "print(spot_df.isna().sum())"
   ]
  },
  {
   "cell_type": "code",
   "execution_count": 10,
   "id": "eeb7244f-b1c2-479c-b71f-ac4417bc357c",
   "metadata": {},
   "outputs": [
    {
     "name": "stdout",
     "output_type": "stream",
     "text": [
      "energy                      0\n",
      "tempo                       0\n",
      "danceability                0\n",
      "playlist_genre              0\n",
      "loudness                    0\n",
      "liveness                    0\n",
      "valence                     0\n",
      "track_artist                0\n",
      "time_signature              0\n",
      "speechiness                 0\n",
      "track_popularity            0\n",
      "track_href                  0\n",
      "uri                         0\n",
      "track_album_name            0\n",
      "playlist_name               0\n",
      "analysis_url                0\n",
      "track_id                    0\n",
      "track_name                  0\n",
      "track_album_release_date    0\n",
      "instrumentalness            0\n",
      "track_album_id              0\n",
      "mode                        0\n",
      "key                         0\n",
      "duration_ms                 0\n",
      "acousticness                0\n",
      "id                          0\n",
      "playlist_subgenre           0\n",
      "type                        0\n",
      "playlist_id                 0\n",
      "dtype: int64\n"
     ]
    }
   ],
   "source": [
    "#easy drop\n",
    "spot_df = spot_df.dropna()\n",
    "print(spot_df.isna().sum())"
   ]
  },
  {
   "cell_type": "code",
   "execution_count": 11,
   "id": "8b2403fd-0d7a-42e7-b00e-2d70cc2a862c",
   "metadata": {},
   "outputs": [
    {
     "name": "stdout",
     "output_type": "stream",
     "text": [
      "4371\n",
      "4829\n"
     ]
    }
   ],
   "source": [
    "#check dupls\n",
    "print(spot_df['track_name'].nunique())\n",
    "print(len(spot_df))"
   ]
  },
  {
   "cell_type": "code",
   "execution_count": 12,
   "id": "d8e2f2a5-54a0-4951-a515-29d5cbcc7ca0",
   "metadata": {},
   "outputs": [
    {
     "name": "stdout",
     "output_type": "stream",
     "text": [
      "4371\n"
     ]
    }
   ],
   "source": [
    "spot_df = spot_df.drop_duplicates()\n",
    "print(spot_df['track_name'].nunique())"
   ]
  },
  {
   "cell_type": "code",
   "execution_count": 13,
   "id": "c3bdfccd-776e-4aee-a2cd-73d93c578d40",
   "metadata": {},
   "outputs": [
    {
     "name": "stdout",
     "output_type": "stream",
     "text": [
      "      energy    tempo  danceability playlist_genre  loudness  liveness  \\\n",
      "1323   0.815  124.975         0.576     electronic    -7.088    0.0911   \n",
      "3030   0.825  103.051         0.644            pop    -3.591    0.3350   \n",
      "\n",
      "      valence               track_artist  time_signature  speechiness  ...  \\\n",
      "1323    0.039  Nils Hoffmann, Rae Morris             4.0       0.0334  ...   \n",
      "3030    0.593                     LIAMOO             4.0       0.0388  ...   \n",
      "\n",
      "      instrumentalness          track_album_id mode  key duration_ms  \\\n",
      "1323           0.00661  3o2K9k9I6qN5U8VAD8vfVp  0.0  4.0    250921.0   \n",
      "3030           0.00000  0vOHbxKa0A5MSOs5NReZgl  0.0  9.0    181333.0   \n",
      "\n",
      "     acousticness                      id playlist_subgenre            type  \\\n",
      "1323      0.00966  1FTrDODUS6bWx3eSCWu1Ym        deep house  audio_features   \n",
      "3030      0.01770  67DpIQJB2cLRyJdd0tG80D            scandi  audio_features   \n",
      "\n",
      "                 playlist_id  \n",
      "1323  37i9dQZF1DX2TRYkJECvfC  \n",
      "3030  59z06GgF6TTDbm5cr1RZUC  \n",
      "\n",
      "[2 rows x 29 columns]\n"
     ]
    }
   ],
   "source": [
    "print(spot_df[spot_df['track_name'] == 'Lonely'])"
   ]
  },
  {
   "cell_type": "code",
   "execution_count": 14,
   "id": "24be53c8-41e7-41bc-b677-db0ea86cc41c",
   "metadata": {},
   "outputs": [
    {
     "name": "stdout",
     "output_type": "stream",
     "text": [
      "energy                      float64\n",
      "tempo                       float64\n",
      "danceability                float64\n",
      "playlist_genre               object\n",
      "loudness                    float64\n",
      "liveness                    float64\n",
      "valence                     float64\n",
      "track_artist                 object\n",
      "time_signature              float64\n",
      "speechiness                 float64\n",
      "track_popularity              int64\n",
      "track_href                   object\n",
      "uri                          object\n",
      "track_album_name             object\n",
      "playlist_name                object\n",
      "analysis_url                 object\n",
      "track_id                     object\n",
      "track_name                   object\n",
      "track_album_release_date     object\n",
      "instrumentalness            float64\n",
      "track_album_id               object\n",
      "mode                        float64\n",
      "key                         float64\n",
      "duration_ms                 float64\n",
      "acousticness                float64\n",
      "id                           object\n",
      "playlist_subgenre            object\n",
      "type                         object\n",
      "playlist_id                  object\n",
      "dtype: object\n"
     ]
    }
   ],
   "source": [
    "#just songs with same name. not actually duplicates\n",
    "print(spot_df.dtypes)"
   ]
  },
  {
   "cell_type": "code",
   "execution_count": 15,
   "id": "97f7bc86-7b63-4f47-a9e1-f0a022daf3d3",
   "metadata": {},
   "outputs": [
    {
     "name": "stdout",
     "output_type": "stream",
     "text": [
      "Index(['energy', 'tempo', 'danceability', 'playlist_genre', 'loudness',\n",
      "       'liveness', 'valence', 'speechiness', 'track_popularity',\n",
      "       'instrumentalness', 'mode', 'key', 'duration_ms', 'acousticness',\n",
      "       'playlist_subgenre'],\n",
      "      dtype='object')\n"
     ]
    }
   ],
   "source": [
    "spot_df = spot_df.drop(['track_name', 'track_album_id', 'uri', 'track_album_name', 'id', 'playlist_id', 'track_album_release_date', 'playlist_name', 'track_href', 'analysis_url', 'track_id', 'type', 'track_artist', 'time_signature'], axis=1)\n",
    "print(spot_df.columns)"
   ]
  },
  {
   "cell_type": "code",
   "execution_count": 16,
   "id": "e97011ff-c9ca-462b-88d3-5fed74c5ea92",
   "metadata": {},
   "outputs": [
    {
     "name": "stdout",
     "output_type": "stream",
     "text": [
      "35\n",
      "84\n",
      "      energy    tempo  danceability playlist_genre  loudness  liveness  \\\n",
      "0      0.592  157.969         0.521            pop    -7.777    0.1220   \n",
      "1      0.507  104.978         0.747            pop   -10.171    0.1170   \n",
      "2      0.808  108.548         0.554            pop    -4.169    0.1590   \n",
      "3      0.910  112.966         0.670            pop    -4.070    0.3040   \n",
      "4      0.783  149.027         0.777            pop    -4.477    0.3550   \n",
      "...      ...      ...           ...            ...       ...       ...   \n",
      "3140   0.424   75.466         0.352         indian    -8.009    0.2420   \n",
      "3141   0.349  147.193         0.471         indian   -16.633    0.2860   \n",
      "3142   0.595  174.308         0.436         indian   -11.494    0.0939   \n",
      "3143   0.591  174.760         0.489         indian   -10.843    0.0770   \n",
      "3144   0.816  170.938         0.270         indian    -3.815    0.3170   \n",
      "\n",
      "      valence  speechiness  track_popularity  instrumentalness  mode   key  \\\n",
      "0       0.535       0.0304               100            0.0000   0.0   6.0   \n",
      "1       0.438       0.0358                97            0.0608   1.0   2.0   \n",
      "2       0.372       0.0368                93            0.0000   1.0   1.0   \n",
      "3       0.786       0.0634                81            0.0000   0.0   0.0   \n",
      "4       0.939       0.2600                98            0.0000   0.0   0.0   \n",
      "...       ...          ...               ...               ...   ...   ...   \n",
      "3140    0.605       0.0634                33            0.0000   1.0  10.0   \n",
      "3141    0.358       0.0656                22            0.9450   1.0   8.0   \n",
      "3142    0.870       0.0671                18            0.8680   1.0   3.0   \n",
      "3143    0.689       0.0813                23            0.9270   0.0   8.0   \n",
      "3144    0.591       0.0598                14            0.1130   1.0   8.0   \n",
      "\n",
      "      duration_ms  acousticness playlist_subgenre  \n",
      "0        251668.0        0.3080        mainstream  \n",
      "1        210373.0        0.2000        mainstream  \n",
      "2        166300.0        0.2140        mainstream  \n",
      "3        157280.0        0.0939        mainstream  \n",
      "4        169917.0        0.0283        mainstream  \n",
      "...           ...           ...               ...  \n",
      "3140     661293.0        0.9650         classical  \n",
      "3141     394400.0        0.9750         classical  \n",
      "3142     473440.0        0.8160         classical  \n",
      "3143     298987.0        0.9480         classical  \n",
      "3144     645701.0        0.8530         classical  \n",
      "\n",
      "[4786 rows x 15 columns]\n"
     ]
    }
   ],
   "source": [
    "print(spot_df['playlist_genre'].nunique())\n",
    "print(spot_df['playlist_subgenre'].nunique())\n",
    "print(spot_df)"
   ]
  },
  {
   "cell_type": "code",
   "execution_count": 17,
   "id": "ec7171e7-ac4f-4967-bc18-80c313257549",
   "metadata": {},
   "outputs": [],
   "source": [
    "spot_df = spot_df.drop(['playlist_subgenre'], axis=1)\n"
   ]
  },
  {
   "cell_type": "code",
   "execution_count": 18,
   "id": "b6bc7cb7-1010-4a6c-825c-3e1334fcf090",
   "metadata": {},
   "outputs": [],
   "source": [
    "#categories to int"
   ]
  },
  {
   "cell_type": "code",
   "execution_count": 19,
   "id": "590884bf-4695-4649-95e9-0b7aa4e518f1",
   "metadata": {},
   "outputs": [
    {
     "name": "stdout",
     "output_type": "stream",
     "text": [
      "{'pop': 1, 'rock': 2, 'jazz': 3, 'classical': 4, 'hip-hop': 5, 'afrobeats': 6, 'latin': 7, 'indian': 8, 'country': 9, 'r&b': 10, 'electronic': 11, 'soul': 12, 'gaming': 13, 'j-pop': 14, 'metal': 15, 'reggae': 16, 'k-pop': 17, 'arabic': 18, 'punk': 19, 'blues': 20, 'folk': 21, 'lofi': 22, 'brazilian': 23, 'turkish': 24, 'ambient': 25, 'korean': 26, 'world': 27, 'indie': 28, 'mandopop': 29, 'cantopop': 30, 'wellness': 31, 'gospel': 32, 'funk': 33, 'soca': 34, 'disco': 35}\n"
     ]
    }
   ],
   "source": [
    "genre_num = 1\n",
    "genre_dict = {}\n",
    "for genre in spot_df['playlist_genre']:\n",
    "    if (genre_dict.get(genre) == None):\n",
    "        genre_dict[genre] = genre_num\n",
    "        genre_num += 1\n",
    "print(genre_dict)"
   ]
  },
  {
   "cell_type": "code",
   "execution_count": 20,
   "id": "a28a060a-6f54-4cc0-9a2e-4bd60485e88f",
   "metadata": {},
   "outputs": [],
   "source": [
    "spot_df['playlist_genre'] = spot_df['playlist_genre'].map(genre_dict)"
   ]
  },
  {
   "cell_type": "code",
   "execution_count": 21,
   "id": "3fed5572-3d78-459c-bfce-bd9eb6a2353f",
   "metadata": {},
   "outputs": [
    {
     "name": "stdout",
     "output_type": "stream",
     "text": [
      "      energy    tempo  danceability  playlist_genre  loudness  liveness  \\\n",
      "0      0.592  157.969         0.521               1    -7.777    0.1220   \n",
      "1      0.507  104.978         0.747               1   -10.171    0.1170   \n",
      "2      0.808  108.548         0.554               1    -4.169    0.1590   \n",
      "3      0.910  112.966         0.670               1    -4.070    0.3040   \n",
      "4      0.783  149.027         0.777               1    -4.477    0.3550   \n",
      "...      ...      ...           ...             ...       ...       ...   \n",
      "3140   0.424   75.466         0.352               8    -8.009    0.2420   \n",
      "3141   0.349  147.193         0.471               8   -16.633    0.2860   \n",
      "3142   0.595  174.308         0.436               8   -11.494    0.0939   \n",
      "3143   0.591  174.760         0.489               8   -10.843    0.0770   \n",
      "3144   0.816  170.938         0.270               8    -3.815    0.3170   \n",
      "\n",
      "      valence  speechiness  track_popularity  instrumentalness  mode   key  \\\n",
      "0       0.535       0.0304               100            0.0000   0.0   6.0   \n",
      "1       0.438       0.0358                97            0.0608   1.0   2.0   \n",
      "2       0.372       0.0368                93            0.0000   1.0   1.0   \n",
      "3       0.786       0.0634                81            0.0000   0.0   0.0   \n",
      "4       0.939       0.2600                98            0.0000   0.0   0.0   \n",
      "...       ...          ...               ...               ...   ...   ...   \n",
      "3140    0.605       0.0634                33            0.0000   1.0  10.0   \n",
      "3141    0.358       0.0656                22            0.9450   1.0   8.0   \n",
      "3142    0.870       0.0671                18            0.8680   1.0   3.0   \n",
      "3143    0.689       0.0813                23            0.9270   0.0   8.0   \n",
      "3144    0.591       0.0598                14            0.1130   1.0   8.0   \n",
      "\n",
      "      duration_ms  acousticness  \n",
      "0        251668.0        0.3080  \n",
      "1        210373.0        0.2000  \n",
      "2        166300.0        0.2140  \n",
      "3        157280.0        0.0939  \n",
      "4        169917.0        0.0283  \n",
      "...           ...           ...  \n",
      "3140     661293.0        0.9650  \n",
      "3141     394400.0        0.9750  \n",
      "3142     473440.0        0.8160  \n",
      "3143     298987.0        0.9480  \n",
      "3144     645701.0        0.8530  \n",
      "\n",
      "[4786 rows x 14 columns]\n"
     ]
    }
   ],
   "source": [
    "print(spot_df)"
   ]
  },
  {
   "cell_type": "code",
   "execution_count": 22,
   "id": "901ebf98",
   "metadata": {},
   "outputs": [],
   "source": [
    "X = spot_df.drop(columns = 'track_popularity')\n",
    "y = spot_df['track_popularity']"
   ]
  },
  {
   "cell_type": "code",
   "execution_count": 23,
   "id": "a478b575",
   "metadata": {},
   "outputs": [],
   "source": [
    "# split the data\n",
    "X_train, X_test, y_train, y_test = train_test_split(X, y, test_size=0.2, random_state=42)"
   ]
  },
  {
   "cell_type": "code",
   "execution_count": 24,
   "id": "07f05166-1652-4f84-aaf0-82a864646123",
   "metadata": {},
   "outputs": [],
   "source": [
    "numeric_cols = X.select_dtypes(include='number').columns"
   ]
  },
  {
   "cell_type": "code",
   "execution_count": 25,
   "id": "f79c3de7",
   "metadata": {},
   "outputs": [],
   "source": [
    "# scale numeric features\n",
    "scaler = StandardScaler()\n",
    "train_scaled = scaler.fit_transform(X_train[numeric_cols])\n",
    "test_scaled = scaler.transform(X_test[numeric_cols])"
   ]
  },
  {
   "cell_type": "code",
   "execution_count": 26,
   "id": "57a38c53",
   "metadata": {},
   "outputs": [],
   "source": [
    "# combine scaled and categorical columns\n",
    "X_train = np.hstack([train_scaled, X_train.drop(columns=numeric_cols).values])\n",
    "X_test = np.hstack([test_scaled, X_test.drop(columns=numeric_cols).values])"
   ]
  },
  {
   "cell_type": "code",
   "execution_count": 27,
   "id": "8827e4e0",
   "metadata": {},
   "outputs": [
    {
     "name": "stdout",
     "output_type": "stream",
     "text": [
      "(3828, 13)\n",
      "(958, 13)\n"
     ]
    }
   ],
   "source": [
    "print(X_train.shape)\n",
    "print(X_test.shape)"
   ]
  },
  {
   "cell_type": "code",
   "execution_count": 28,
   "id": "12d16b1f-35ea-4569-af12-32f82fc64482",
   "metadata": {},
   "outputs": [
    {
     "data": {
      "image/png": "[encoded data removed]",
      "text/plain": [
       "<Figure size 1200x1000 with 2 Axes>"
      ]
     },
     "metadata": {},
     "output_type": "display_data"
    }
   ],
   "source": [
    "corr = spot_df.corr(numeric_only=True)\n",
    "\n",
    "plt.figure(figsize=(12, 10))\n",
    "sns.heatmap(corr, annot=True, cmap='coolwarm', fmt=\".2f\", square=True, linewidths=0.5)\n",
    "plt.title(\"Correlation Heatmap of Spotify Features\")\n",
    "plt.tight_layout()\n",
    "plt.show()"
   ]
  },
  {
   "cell_type": "code",
   "execution_count": 29,
   "id": "99fc2a82-c7ba-4a14-8320-ea8ca30e945e",
   "metadata": {},
   "outputs": [
    {
     "ename": "NameError",
     "evalue": "name 'correlation_matrix' is not defined",
     "output_type": "error",
     "traceback": [
      "\u001b[1;31m---------------------------------------------------------------------------\u001b[0m",
      "\u001b[1;31mNameError\u001b[0m                                 Traceback (most recent call last)",
      "Cell \u001b[1;32mIn[29], line 3\u001b[0m\n\u001b[0;32m      1\u001b[0m plt\u001b[38;5;241m.\u001b[39mfigure(figsize\u001b[38;5;241m=\u001b[39m(\u001b[38;5;241m10\u001b[39m, \u001b[38;5;241m8\u001b[39m))\n\u001b[0;32m      2\u001b[0m plt\u001b[38;5;241m.\u001b[39msubplot(\u001b[38;5;241m2\u001b[39m, \u001b[38;5;241m2\u001b[39m, \u001b[38;5;241m2\u001b[39m)\n\u001b[1;32m----> 3\u001b[0m target_corr \u001b[38;5;241m=\u001b[39m correlation_matrix[\u001b[38;5;124m'\u001b[39m\u001b[38;5;124mtrack_popularity\u001b[39m\u001b[38;5;124m'\u001b[39m]\u001b[38;5;241m.\u001b[39msort_values(ascending\u001b[38;5;241m=\u001b[39m\u001b[38;5;28;01mFalse\u001b[39;00m)\n\u001b[0;32m      4\u001b[0m target_corr\u001b[38;5;241m.\u001b[39mdrop(\u001b[38;5;124m'\u001b[39m\u001b[38;5;124mtrack_popularity\u001b[39m\u001b[38;5;124m'\u001b[39m, inplace\u001b[38;5;241m=\u001b[39m\u001b[38;5;28;01mTrue\u001b[39;00m)  \n\u001b[0;32m      6\u001b[0m sns\u001b[38;5;241m.\u001b[39mbarplot(\n\u001b[0;32m      7\u001b[0m     x\u001b[38;5;241m=\u001b[39mtarget_corr\u001b[38;5;241m.\u001b[39mvalues,\n\u001b[0;32m      8\u001b[0m     y\u001b[38;5;241m=\u001b[39mtarget_corr\u001b[38;5;241m.\u001b[39mindex,\n\u001b[1;32m   (...)\u001b[0m\n\u001b[0;32m     12\u001b[0m     legend\u001b[38;5;241m=\u001b[39m\u001b[38;5;28;01mFalse\u001b[39;00m            \n\u001b[0;32m     13\u001b[0m )\n",
      "\u001b[1;31mNameError\u001b[0m: name 'correlation_matrix' is not defined"
     ]
    },
    {
     "data": {
      "image/png": "[encoded data removed]",
      "text/plain": [
       "<Figure size 1000x800 with 1 Axes>"
      ]
     },
     "metadata": {},
     "output_type": "display_data"
    }
   ],
   "source": [
    "plt.figure(figsize=(10, 8))\n",
    "plt.subplot(2, 2, 2)\n",
    "target_corr = correlation_matrix['track_popularity'].sort_values(ascending=False)\n",
    "target_corr.drop('track_popularity', inplace=True)  \n",
    "\n",
    "sns.barplot(\n",
    "    x=target_corr.values,\n",
    "    y=target_corr.index,\n",
    "    hue=target_corr.index,       \n",
    "    palette='viridis',\n",
    "    dodge=False,\n",
    "    legend=False            \n",
    ")\n",
    "\n",
    "plt.title('Feature Correlation with Track Popularity', fontsize=16)\n",
    "plt.xlabel('Correlation Coefficient')\n",
    "plt.ylabel('Features')"
   ]
  },
  {
   "cell_type": "markdown",
   "id": "e15563bd",
   "metadata": {},
   "source": [
    "# Modeling #"
   ]
  },
  {
   "cell_type": "code",
   "execution_count": 44,
   "id": "244d500d",
   "metadata": {},
   "outputs": [
    {
     "name": "stdout",
     "output_type": "stream",
     "text": [
      "Linear Regression Evaluation (Regular):\n",
      "\n",
      "Mean Squared Error: 345.37\n",
      "Root Mean Squared Error: 18.58\n",
      "R2 Score: 0.1779428971783401\n"
     ]
    }
   ],
   "source": [
    "# Multi-modal Linear Regression\n",
    "\n",
    "reg = LinearRegression()\n",
    "reg.fit(X_train, y_train)\n",
    "reg_pred = reg.predict(X_test)\n",
    "\n",
    "reg_mse = mean_squared_error(y_test, reg_pred).round(2)\n",
    "reg_rmse = np.sqrt(reg_mse).round(2)\n",
    "regr_r2 = r2_score(y_test, reg_pred)\n",
    "print(f\"Linear Regression Evaluation (Regular):\\n\\nMean Squared Error: {reg_mse}\\nRoot Mean Squared Error: {reg_rmse}\\nR2 Score: {regr_r2}\")\n"
   ]
  },
  {
   "cell_type": "code",
   "execution_count": 34,
   "id": "e86e5e88",
   "metadata": {},
   "outputs": [
    {
     "name": "stdout",
     "output_type": "stream",
     "text": [
      "Linear Regression Evaluation (OLS/Ridge):\n",
      "\n",
      "Mean Squared Error: 345.37\n",
      "Root Mean Squared Error: 18.58\n",
      "R2 Score: 0.1779428971783401\n"
     ]
    }
   ],
   "source": [
    "# Multi-modal Multi-modal Linear Regression (OLS)\n",
    "\n",
    "OLS = Ridge(alpha=1.0)\n",
    "OLS.fit(X_train, y_train)\n",
    "OLS_pred = OLS.predict(X_test)\n",
    "\n",
    "OLS_mse = mean_squared_error(y_test, OLS_pred).round(2)\n",
    "OLS_rmse = np.sqrt(OLS_mse).round(2)\n",
    "OLS_r2 = r2_score(y_test, OLS_pred)\n",
    "print(f\"Linear Regression Evaluation (OLS/Ridge):\\n\\nMean Squared Error: {reg_mse}\\nRoot Mean Squared Error: {reg_rmse}\\nR2 Score: {regr_r2}\")\n"
   ]
  },
  {
   "cell_type": "code",
   "execution_count": 43,
   "id": "9f3e6fb4",
   "metadata": {},
   "outputs": [
    {
     "name": "stdout",
     "output_type": "stream",
     "text": [
      "Linear Regression Evaluation (Lasso):\n",
      "\n",
      "Mean Squared Error: 345.69\n",
      "Root Mean Squared Error: 18.59\n",
      "R2 Score: 0.17718799541354424\n"
     ]
    }
   ],
   "source": [
    "# Multi-modal Linear Regression (Lasso)\n",
    "\n",
    "Las = linear_model.Lasso(alpha=0.1)\n",
    "Las.fit(X_train, y_train)\n",
    "Las_pred = Las.predict(X_test)\n",
    "\n",
    "Las_mse = mean_squared_error(y_test, Las_pred).round(2)\n",
    "Las_rmse = np.sqrt(Las_mse).round(2)\n",
    "Las_r2 = r2_score(y_test, Las_pred)\n",
    "print(f\"Linear Regression Evaluation (Lasso):\\n\\nMean Squared Error: {Las_mse}\\nRoot Mean Squared Error: {Las_rmse}\\nR2 Score: {Las_r2}\")\n"
   ]
  },
  {
   "cell_type": "code",
   "execution_count": 46,
   "id": "007efffe",
   "metadata": {},
   "outputs": [
    {
     "name": "stdout",
     "output_type": "stream",
     "text": [
      "Polynomial Regression Evaluation:\n",
      "\n",
      "Mean Squared Error: 321.41\n",
      "Root Mean Squared Error: 17.93\n",
      "R2 Score: 0.23498276463271495\n"
     ]
    }
   ],
   "source": [
    "# Polynomial Regression\n",
    "\n",
    "degree = 2\n",
    "poly_features = PolynomialFeatures(degree=degree)\n",
    "X_poly = poly_features.fit_transform(X)\n",
    "X_poly_train, X_poly_test, y_train, y_test = train_test_split(X_poly, y, test_size = 0.2, random_state =42)\n",
    "\n",
    "poly_reg = LinearRegression()\n",
    "poly_reg.fit(X_poly_train, y_train)\n",
    "poly_reg_pred = poly_reg.predict(X_poly_test)\n",
    "\n",
    "poly_reg_mse = mean_squared_error(y_test, poly_reg_pred).round(2)\n",
    "poly_reg_rmse = np.sqrt(poly_reg_mse).round(2)\n",
    "poly_reg_r2 = r2_score(y_test, poly_reg_pred)\n",
    "print(f\"Polynomial Regression Evaluation:\\n\\nMean Squared Error: {poly_reg_mse}\\nRoot Mean Squared Error: {poly_reg_rmse}\\nR2 Score: {poly_reg_r2}\")\n"
   ]
  },
  {
   "cell_type": "code",
   "execution_count": null,
   "id": "47806930",
   "metadata": {},
   "outputs": [],
   "source": []
  }
 ],
 "metadata": {
  "kernelspec": {
   "display_name": "Python 3 (ipykernel)",
   "language": "python",
   "name": "python3"
  },
  "language_info": {
   "codemirror_mode": {
    "name": "ipython",
    "version": 3
   },
   "file_extension": ".py",
   "mimetype": "text/x-python",
   "name": "python",
   "nbconvert_exporter": "python",
   "pygments_lexer": "ipython3",
   "version": "3.11.7"
  }
 },
 "nbformat": 4,
 "nbformat_minor": 5
}
